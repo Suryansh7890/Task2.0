{
 "cells": [
  {
   "cell_type": "code",
   "execution_count": 1,
   "id": "a480b6c3-ed47-470a-b3cc-78ee24b6eaa8",
   "metadata": {},
   "outputs": [],
   "source": [
    "import numpy as np\n",
    "import pandas as pd\n",
    "import matplotlib.pyplot as plt\n",
    " \n"
   ]
  },
  {
   "cell_type": "code",
   "execution_count": 2,
   "id": "941ae50e-56d7-4468-8020-f09da4767eaa",
   "metadata": {},
   "outputs": [
    {
     "data": {
      "text/html": [
       "<div>\n",
       "<style scoped>\n",
       "    .dataframe tbody tr th:only-of-type {\n",
       "        vertical-align: middle;\n",
       "    }\n",
       "\n",
       "    .dataframe tbody tr th {\n",
       "        vertical-align: top;\n",
       "    }\n",
       "\n",
       "    .dataframe thead th {\n",
       "        text-align: right;\n",
       "    }\n",
       "</style>\n",
       "<table border=\"1\" class=\"dataframe\">\n",
       "  <thead>\n",
       "    <tr style=\"text-align: right;\">\n",
       "      <th></th>\n",
       "      <th>date</th>\n",
       "      <th>high</th>\n",
       "      <th>low</th>\n",
       "      <th>momentum_index</th>\n",
       "      <th>beta_indicator</th>\n",
       "      <th>risk_premium</th>\n",
       "      <th>index</th>\n",
       "      <th>volatility_factor</th>\n",
       "      <th>technical_score</th>\n",
       "      <th>oscillator_value</th>\n",
       "      <th>liquidity_ratio</th>\n",
       "      <th>open</th>\n",
       "      <th>quant_index</th>\n",
       "      <th>trend_strength</th>\n",
       "      <th>market_sentiment</th>\n",
       "      <th>close</th>\n",
       "      <th>volume</th>\n",
       "      <th>alpha_signal</th>\n",
       "      <th>symbols</th>\n",
       "    </tr>\n",
       "  </thead>\n",
       "  <tbody>\n",
       "    <tr>\n",
       "      <th>0</th>\n",
       "      <td>2012-06-22</td>\n",
       "      <td>24.797176</td>\n",
       "      <td>162.793195</td>\n",
       "      <td>153.349972</td>\n",
       "      <td>90.290064</td>\n",
       "      <td>277.383362</td>\n",
       "      <td>62235.0</td>\n",
       "      <td>105.868473</td>\n",
       "      <td>128.280484</td>\n",
       "      <td>38.359969</td>\n",
       "      <td>154.844720</td>\n",
       "      <td>122.656593</td>\n",
       "      <td>3817.034814</td>\n",
       "      <td>-48.017571</td>\n",
       "      <td>-42.552169</td>\n",
       "      <td>95.610001</td>\n",
       "      <td>NaN</td>\n",
       "      <td>126.405476</td>\n",
       "      <td>MRO</td>\n",
       "    </tr>\n",
       "    <tr>\n",
       "      <th>1</th>\n",
       "      <td>2013-02-27</td>\n",
       "      <td>84.148858</td>\n",
       "      <td>62.911473</td>\n",
       "      <td>123.066280</td>\n",
       "      <td>99.689780</td>\n",
       "      <td>116.635811</td>\n",
       "      <td>48784.0</td>\n",
       "      <td>116.700703</td>\n",
       "      <td>8.730951</td>\n",
       "      <td>-35.866296</td>\n",
       "      <td>-53.482145</td>\n",
       "      <td>48.429243</td>\n",
       "      <td>4522.962303</td>\n",
       "      <td>149.657066</td>\n",
       "      <td>221.824044</td>\n",
       "      <td>27.410000</td>\n",
       "      <td>24383100.0</td>\n",
       "      <td>-22.111984</td>\n",
       "      <td>HRS</td>\n",
       "    </tr>\n",
       "    <tr>\n",
       "      <th>2</th>\n",
       "      <td>2010-07-19</td>\n",
       "      <td>162.714072</td>\n",
       "      <td>7.813419</td>\n",
       "      <td>50.140068</td>\n",
       "      <td>-30.373609</td>\n",
       "      <td>145.254746</td>\n",
       "      <td>233118.0</td>\n",
       "      <td>302.752221</td>\n",
       "      <td>-40.118103</td>\n",
       "      <td>-50.358825</td>\n",
       "      <td>27.921367</td>\n",
       "      <td>144.410310</td>\n",
       "      <td>1277.720791</td>\n",
       "      <td>284.891018</td>\n",
       "      <td>58.834733</td>\n",
       "      <td>25.230000</td>\n",
       "      <td>38181800.0</td>\n",
       "      <td>20.068656</td>\n",
       "      <td>Low</td>\n",
       "    </tr>\n",
       "    <tr>\n",
       "      <th>3</th>\n",
       "      <td>2015-12-31</td>\n",
       "      <td>-128.017977</td>\n",
       "      <td>-38.679447</td>\n",
       "      <td>-21.881272</td>\n",
       "      <td>-173.386894</td>\n",
       "      <td>-123.314003</td>\n",
       "      <td>28867.0</td>\n",
       "      <td>-3.662459</td>\n",
       "      <td>81.801806</td>\n",
       "      <td>-53.396998</td>\n",
       "      <td>-11.014860</td>\n",
       "      <td>-12.281054</td>\n",
       "      <td>636.545321</td>\n",
       "      <td>-210.812924</td>\n",
       "      <td>137.518347</td>\n",
       "      <td>30.000000</td>\n",
       "      <td>944600.0</td>\n",
       "      <td>75.297134</td>\n",
       "      <td>ULTA</td>\n",
       "    </tr>\n",
       "    <tr>\n",
       "      <th>4</th>\n",
       "      <td>2012-11-12</td>\n",
       "      <td>204.768157</td>\n",
       "      <td>-6.981525</td>\n",
       "      <td>-38.978256</td>\n",
       "      <td>64.867265</td>\n",
       "      <td>-90.095079</td>\n",
       "      <td>182732.0</td>\n",
       "      <td>-157.223822</td>\n",
       "      <td>-76.111066</td>\n",
       "      <td>149.650023</td>\n",
       "      <td>-29.829836</td>\n",
       "      <td>-48.492927</td>\n",
       "      <td>3044.960784</td>\n",
       "      <td>293.534187</td>\n",
       "      <td>15.030557</td>\n",
       "      <td>68.480003</td>\n",
       "      <td>2780300.0</td>\n",
       "      <td>82.056444</td>\n",
       "      <td>Low</td>\n",
       "    </tr>\n",
       "  </tbody>\n",
       "</table>\n",
       "</div>"
      ],
      "text/plain": [
       "         date        high         low  momentum_index  beta_indicator  \\\n",
       "0  2012-06-22   24.797176  162.793195      153.349972       90.290064   \n",
       "1  2013-02-27   84.148858   62.911473      123.066280       99.689780   \n",
       "2  2010-07-19  162.714072    7.813419       50.140068      -30.373609   \n",
       "3  2015-12-31 -128.017977  -38.679447      -21.881272     -173.386894   \n",
       "4  2012-11-12  204.768157   -6.981525      -38.978256       64.867265   \n",
       "\n",
       "   risk_premium     index  volatility_factor  technical_score  \\\n",
       "0    277.383362   62235.0         105.868473       128.280484   \n",
       "1    116.635811   48784.0         116.700703         8.730951   \n",
       "2    145.254746  233118.0         302.752221       -40.118103   \n",
       "3   -123.314003   28867.0          -3.662459        81.801806   \n",
       "4    -90.095079  182732.0        -157.223822       -76.111066   \n",
       "\n",
       "   oscillator_value  liquidity_ratio        open  quant_index  trend_strength  \\\n",
       "0         38.359969       154.844720  122.656593  3817.034814      -48.017571   \n",
       "1        -35.866296       -53.482145   48.429243  4522.962303      149.657066   \n",
       "2        -50.358825        27.921367  144.410310  1277.720791      284.891018   \n",
       "3        -53.396998       -11.014860  -12.281054   636.545321     -210.812924   \n",
       "4        149.650023       -29.829836  -48.492927  3044.960784      293.534187   \n",
       "\n",
       "   market_sentiment      close      volume  alpha_signal symbols  \n",
       "0        -42.552169  95.610001         NaN    126.405476     MRO  \n",
       "1        221.824044  27.410000  24383100.0    -22.111984     HRS  \n",
       "2         58.834733  25.230000  38181800.0     20.068656     Low  \n",
       "3        137.518347  30.000000    944600.0     75.297134    ULTA  \n",
       "4         15.030557  68.480003   2780300.0     82.056444     Low  "
      ]
     },
     "execution_count": 2,
     "metadata": {},
     "output_type": "execute_result"
    }
   ],
   "source": [
    "df = pd.read_csv(r'C:\\Users\\surya\\OneDrive\\Desktop\\SP MANAS\\Task 2.0\\train.csv')\n",
    "df.head()"
   ]
  },
  {
   "cell_type": "code",
   "execution_count": 3,
   "id": "198b8044-4acf-4de5-bccd-ebe13325a31c",
   "metadata": {},
   "outputs": [
    {
     "name": "stdout",
     "output_type": "stream",
     "text": [
      "263628\n"
     ]
    },
    {
     "data": {
      "text/plain": [
       "Index(['date', 'high', 'low', 'momentum_index', 'beta_indicator',\n",
       "       'risk_premium', 'index', 'volatility_factor', 'technical_score',\n",
       "       'oscillator_value', 'liquidity_ratio', 'open', 'quant_index',\n",
       "       'trend_strength', 'market_sentiment', 'close', 'volume', 'alpha_signal',\n",
       "       'symbols'],\n",
       "      dtype='object')"
      ]
     },
     "execution_count": 3,
     "metadata": {},
     "output_type": "execute_result"
    }
   ],
   "source": [
    "df=df.dropna(axis=0)\n",
    "print(len(df))\n",
    "df.columns"
   ]
  },
  {
   "cell_type": "code",
   "execution_count": 4,
   "id": "7afa4e66-1fdf-4fbc-8eef-a520daa9e5ce",
   "metadata": {},
   "outputs": [
    {
     "name": "stdout",
     "output_type": "stream",
     "text": [
      "16\n"
     ]
    }
   ],
   "source": [
    "\n",
    "y=df['close']\n",
    "\n",
    "\n",
    "X=df.drop(labels=['date','close','symbols'],axis=1)\n",
    "\n",
    "\n",
    "\n",
    "\n",
    "\n",
    "print(len(X.columns))"
   ]
  },
  {
   "cell_type": "code",
   "execution_count": 5,
   "id": "44e4ca16-be2d-4950-8c7d-6e46882eae73",
   "metadata": {},
   "outputs": [],
   "source": [
    "def Compute_error(X,y,slope,c):\n",
    "    total_error=0\n",
    "    for i in range(X.shape[0]):\n",
    "        pred_value= np.dot(slope,X[i]) + c #predicted value\n",
    "        error_sample = (pred_value-y[i])**2  #calculated error for one row\n",
    "        total_error+= error_sample\n",
    "    total_error=(1/(2*X.shape[0]))*total_error\n",
    "    return total_error\n",
    "    "
   ]
  },
  {
   "cell_type": "code",
   "execution_count": 8,
   "id": "393534c4-678b-45e3-ba58-170deba28ea6",
   "metadata": {},
   "outputs": [],
   "source": [
    "def Gradient(X,y,slope,c):\n",
    "  \n",
    "    Pd_c=0 # partial derivative term for intercept \n",
    "    m,n=X.shape # m rows and n columns or features \n",
    "    Pd_slope=np.zeros((n,)) # partial derivative term for slope \n",
    "    for i in range(m):\n",
    "        pred = np.dot(slope,X[i])+c\n",
    "        err=pred-y[i]\n",
    "        for j in range(n):\n",
    "            Pd_slope[j]+=err*X[i,j]\n",
    "        \n",
    "        Pd_c+=err\n",
    "    Pd_c=Pd_c/m\n",
    "    Pd_slope=Pd_slope/m\n",
    "    return Pd_slope,Pd_c\n",
    "\n",
    "\n",
    "def model(n_iter,X,y,slope,c,lr):\n",
    "    \n",
    "    cost_history=[]\n",
    "    slope_hist=[]\n",
    "    c_hist=[]\n",
    "    for i in range(n_iter):\n",
    "        Pd_slope,Pd_c = Gradient(X,y,slope,c)\n",
    "        slope=slope-(lr*Pd_slope)\n",
    "        c=c-(Pd_c*lr)\n",
    "        cost=Compute_error(X,y,slope,c)\n",
    "        cost_history.append(cost)\n",
    "        slope_hist.append(slope)\n",
    "        c_hist.append(c)\n",
    "        \n",
    "    return cost_history,slope_hist,c_hist\n",
    "  "
   ]
  },
  {
   "cell_type": "code",
   "execution_count": 5,
   "id": "e51db3fe-f9a4-469a-b98b-5c1147656602",
   "metadata": {},
   "outputs": [],
   "source": [
    "def predict(X,y,slope,c):\n",
    "    y_pred=[]\n",
    "    total_error=0\n",
    "    for i in range(X.shape[0]):\n",
    "        pred_value= np.dot(slope,X[i]) + c\n",
    "        y_pred.append(pred_value) #predicted value\n",
    "        error_sample = (pred_value-y[i])**2  #calculated error for one row\n",
    "        total_error+= error_sample\n",
    "    total_error=(1/(2*X.shape[0]))*total_error\n",
    "  \n",
    "    y_mean= np.mean(y)\n",
    "    sst = np.sum((y - y_mean)**2)\n",
    "    ssr = np.sum((y - y_pred)**2)\n",
    "    r_squared = 1 - (ssr / sst)\n",
    "    return total_error,r_squared,y_pred"
   ]
  },
  {
   "cell_type": "code",
   "execution_count": 10,
   "id": "08b7932d-c258-4def-8432-ff709adcd16a",
   "metadata": {
    "scrolled": true
   },
   "outputs": [],
   "source": [
    "#Standardisatin of X \n",
    "mean_col=np.mean(X,axis=0)\n",
    "std_col=np.std(X,axis=0)\n",
    "X=(X-mean_col)/std_col\n",
    "\n"
   ]
  },
  {
   "cell_type": "code",
   "execution_count": 11,
   "id": "f7637968-7081-4a2a-9e04-97de3a97e974",
   "metadata": {},
   "outputs": [],
   "source": [
    "slope_init=[]\n",
    "c_init=1\n",
    "for i in range(16):\n",
    "    slope_init.append(1)\n",
    "\n",
    "X=np.array(X)\n",
    "y=np.array(y)"
   ]
  },
  {
   "cell_type": "code",
   "execution_count": 12,
   "id": "ddf61fb1-df9c-4610-afd3-d12f9b2b17be",
   "metadata": {},
   "outputs": [
    {
     "data": {
      "text/plain": [
       "'\\nslope_hist contains the slopes used for all the epochs \\nslope_hist[n_iter-1] will give the best performing slopes \\n\\n\\n'"
      ]
     },
     "execution_count": 12,
     "metadata": {},
     "output_type": "execute_result"
    }
   ],
   "source": [
    "n_iter= 100\n",
    "cost_hist,slope_hist,c_hist=model(n_iter,X,y,slope_init,c_init,0.05)\n",
    "\n",
    "'''\n",
    "slope_hist contains the slopes used for all the epochs \n",
    "slope_hist[n_iter-1] will give the best performing slopes \n",
    "\n",
    "\n",
    "'''"
   ]
  },
  {
   "cell_type": "code",
   "execution_count": 13,
   "id": "e81c5ce6-fa97-46be-bd06-fe7dc7cd7b06",
   "metadata": {},
   "outputs": [
    {
     "data": {
      "text/plain": [
       "Text(0, 0.5, 'MSE cost')"
      ]
     },
     "execution_count": 13,
     "metadata": {},
     "output_type": "execute_result"
    },
    {
     "data": {
      "image/png": "[encoded data removed]",
      "text/plain": [
       "<Figure size 640x480 with 1 Axes>"
      ]
     },
     "metadata": {},
     "output_type": "display_data"
    }
   ],
   "source": [
    "plt.plot(cost_hist)\n",
    "plt.title(\"Cost vs epoch\")\n",
    "plt.xlabel(\"epoch\")\n",
    "plt.ylabel(\"MSE cost\")\n"
   ]
  },
  {
   "cell_type": "code",
   "execution_count": 14,
   "id": "ea4ca134-b91f-41f0-8b5c-be2e6177cedb",
   "metadata": {},
   "outputs": [
    {
     "name": "stdout",
     "output_type": "stream",
     "text": [
      "[ 2.15793669e+01  1.97831436e+01 -1.02477213e+01  9.94512019e+00\n",
      "  5.27676154e+00  2.19521801e-02 -1.03331133e+01  2.26766761e+00\n",
      "  8.00813054e+00  1.12300874e+01  2.29428398e+01  9.94546845e-02\n",
      " -1.03516951e+01  3.99192208e+00 -7.43479257e-01  2.60119698e+00]\n",
      "64.39745746576718\n"
     ]
    }
   ],
   "source": [
    "print(slope_hist[n_iter-1])\n",
    "print(c_hist[n_iter-1])"
   ]
  },
  {
   "cell_type": "code",
   "execution_count": 8,
   "id": "1190cfbd-77e8-43da-8081-253262b0c08f",
   "metadata": {},
   "outputs": [],
   "source": [
    "df_test= pd.read_csv(r'C:\\Users\\surya\\OneDrive\\Desktop\\SP MANAS\\Task 2.0\\test.csv')\n",
    "df_test=df_test.dropna(axis=0)\n"
   ]
  },
  {
   "cell_type": "code",
   "execution_count": 9,
   "id": "b652110e-1d8a-4a58-865d-f3511041e908",
   "metadata": {},
   "outputs": [
    {
     "name": "stdout",
     "output_type": "stream",
     "text": [
      "173508\n"
     ]
    }
   ],
   "source": [
    "\n",
    "print(len(df_test))"
   ]
  },
  {
   "cell_type": "code",
   "execution_count": 10,
   "id": "c35033d7-a703-4d53-985f-ad9a27e0c8ae",
   "metadata": {},
   "outputs": [],
   "source": [
    "X_test=df_test.drop(labels=['date','close','symbols'],axis=1)\n",
    "#X_test=X_test.iloc[:10000]\n",
    "y_test=df_test['close']\n",
    "#y_test=y_test.iloc[:10000]"
   ]
  },
  {
   "cell_type": "code",
   "execution_count": 11,
   "id": "a9e5333e-c060-4c53-87b9-39d980270ced",
   "metadata": {},
   "outputs": [],
   "source": [
    "mean_col=np.mean(X_test,axis=0)\n",
    "std_col=np.std(X_test,axis=0)\n",
    "X_test=(X_test-mean_col)/std_col"
   ]
  },
  {
   "cell_type": "code",
   "execution_count": 12,
   "id": "8655759f-0deb-4aba-9ea0-dfb04f447511",
   "metadata": {},
   "outputs": [],
   "source": [
    "X_test=np.array(X_test)\n",
    "y_test=np.array(y_test)"
   ]
  },
  {
   "cell_type": "code",
   "execution_count": 13,
   "id": "68e09e4c-99c5-4662-8193-23dc6e664db8",
   "metadata": {},
   "outputs": [],
   "source": [
    "slope_m= [ 2.15793669e+01 , 1.97831436e+01, -1.02477213e+01 , 9.94512019e+00,\n",
    "  5.27676154e+00,  2.19521801e-02, -1.03331133e+01,  2.26766761e+00,\n",
    "  8.00813054e+00 , 1.12300874e+01 , 2.29428398e+01 , 9.94546845e-02,\n",
    " -1.03516951e+01,  3.99192208e+00 ,-7.43479257e-01,  2.60119698e+00]\n",
    "c_m=64.39745746576718\n",
    "err,r_squared,y_pred=predict(X_test[:10000],y_test[:10000],slope_m,c_m)\n"
   ]
  },
  {
   "cell_type": "code",
   "execution_count": 14,
   "id": "a97a5558-b1ca-4b03-a8f7-9baf5a8de780",
   "metadata": {},
   "outputs": [
    {
     "name": "stdout",
     "output_type": "stream",
     "text": [
      "R sqaured :  0.2587544415617715\n",
      "Adjustated r squared: 0.25868608107658786\n"
     ]
    }
   ],
   "source": [
    "print(\"R sqaured : \" ,r_squared)\n",
    "adj_r_sqr= 1 - (1 - r_squared) * ((len(df_test) - 1) / (len(df_test) - 16 - 1))\n",
    "print(\"Adjustated r squared:\",adj_r_sqr)"
   ]
  },
  {
   "cell_type": "code",
   "execution_count": null,
   "id": "34fbb1e6-6274-40eb-97aa-ac50686d5f38",
   "metadata": {},
   "outputs": [],
   "source": []
  }
 ],
 "metadata": {
  "kernelspec": {
   "display_name": "Python 3 (ipykernel)",
   "language": "python",
   "name": "python3"
  },
  "language_info": {
   "codemirror_mode": {
    "name": "ipython",
    "version": 3
   },
   "file_extension": ".py",
   "mimetype": "text/x-python",
   "name": "python",
   "nbconvert_exporter": "python",
   "pygments_lexer": "ipython3",
   "version": "3.13.7"
  }
 },
 "nbformat": 4,
 "nbformat_minor": 5
}
